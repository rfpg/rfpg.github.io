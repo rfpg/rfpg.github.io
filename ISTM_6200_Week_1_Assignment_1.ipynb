{
  "nbformat": 4,
  "nbformat_minor": 0,
  "metadata": {
    "colab": {
      "name": "ISTM 6200 - Week 1 - Assignment 1.ipynb",
      "provenance": [],
      "authorship_tag": "ABX9TyNiFJv52zmO2808bOPF4aqo",
      "include_colab_link": true
    },
    "kernelspec": {
      "name": "python3",
      "display_name": "Python 3"
    },
    "language_info": {
      "name": "python"
    }
  },
  "cells": [
    {
      "cell_type": "markdown",
      "metadata": {
        "id": "view-in-github",
        "colab_type": "text"
      },
      "source": [
        "<a href=\"https://colab.research.google.com/github/rfpg/rfpg.github.io/blob/main/ISTM_6200_Week_1_Assignment_1.ipynb\" target=\"_parent\"><img src=\"https://colab.research.google.com/assets/colab-badge.svg\" alt=\"Open In Colab\"/></a>"
      ]
    },
    {
      "cell_type": "markdown",
      "source": [
        "# ISTM 6200 - Session 1 - Assignment 1"
      ],
      "metadata": {
        "id": "8z51quTpLgtU"
      }
    },
    {
      "cell_type": "markdown",
      "source": [
        "### Step 1: Complete the following code examples by assigning a single value to the variables a and b below. Examine the printed output to infer the meaning of the arithmetic symbols."
      ],
      "metadata": {
        "id": "wKOVGK9hLHLG"
      }
    },
    {
      "cell_type": "code",
      "execution_count": 1,
      "metadata": {
        "colab": {
          "base_uri": "https://localhost:8080/"
        },
        "id": "eHBcoVLSK1fa",
        "outputId": "e3167959-be76-4653-e7e1-1cb48553c4c5"
      },
      "outputs": [
        {
          "output_type": "stream",
          "name": "stdout",
          "text": [
            "Example 1 50\n",
            "Example 2 100000\n",
            "Example 3 0.5\n",
            "Example 4 2\n",
            "Example 5 0\n",
            "Example 6 8\n",
            "Example 7 40\n"
          ]
        }
      ],
      "source": [
        "a = ?\n",
        "b = ?\n",
        "\n",
        "print('Example 1' , a * b)\n",
        "print('Example 2' , a ** b) #power of i.e., a^b\n",
        "print('Example 3' , b / a)\n",
        "print('Example 4' , a // b) #integer division\n",
        "print('Example 5' , a % b)"
      ]
    },
    {
      "cell_type": "markdown",
      "source": [
        "### Step 2: Complete the print statement to print the computation of variable *a*."
      ],
      "metadata": {
        "id": "IhFd_K3EL-jW"
      }
    },
    {
      "cell_type": "code",
      "source": [
        "a = 1\n",
        "\n",
        "print('Example 6' , ?)\n"
      ],
      "metadata": {
        "colab": {
          "base_uri": "https://localhost:8080/"
        },
        "id": "JbJ7624XK9sn",
        "outputId": "80eb8a76-72f4-45de-c97c-7e4376e9e639"
      },
      "execution_count": 7,
      "outputs": [
        {
          "output_type": "stream",
          "name": "stdout",
          "text": [
            "Example 6 3\n"
          ]
        }
      ]
    },
    {
      "cell_type": "markdown",
      "source": [
        "### Assign a value of *2* to *a* using some combination of the *+* and *=* operators and print the result.\n",
        "### Hint: are *a - 2* and *a=-2* equivalent?"
      ],
      "metadata": {
        "id": "VDu8EWqUNkFQ"
      }
    },
    {
      "cell_type": "code",
      "source": [
        "a\n",
        "print()"
      ],
      "metadata": {
        "id": "_9gfm1WNNbT-"
      },
      "execution_count": null,
      "outputs": []
    }
  ]
}